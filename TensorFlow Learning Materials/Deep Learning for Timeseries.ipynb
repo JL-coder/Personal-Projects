{
 "cells": [
  {
   "cell_type": "code",
   "execution_count": 24,
   "id": "12a29904",
   "metadata": {},
   "outputs": [
    {
     "name": "stderr",
     "output_type": "stream",
     "text": [
      "--2022-08-03 15:35:14--  https://s3.amazonaws.com/keras-datasets/jena_climate_2009_2016.csv.zip\n",
      "Resolving s3.amazonaws.com (s3.amazonaws.com)... 52.216.131.157\n",
      "Connecting to s3.amazonaws.com (s3.amazonaws.com)|52.216.131.157|:443... connected.\n",
      "HTTP request sent, awaiting response... 200 OK\n",
      "Length: 13565642 (13M) [application/zip]\n",
      "Saving to: 'jena_climate_2009_2016.csv.zip.2'\n",
      "\n",
      "     0K .......... .......... .......... .......... ..........  0% 6.96M 2s\n",
      "    50K .......... .......... .......... .......... ..........  0% 4.23M 2s\n",
      "   100K .......... .......... .......... .......... ..........  1% 4.22M 3s\n",
      "   150K .......... .......... .......... .......... ..........  1%  247M 2s\n",
      "   200K .......... .......... .......... .......... ..........  1%  311M 2s\n",
      "   250K .......... .......... .......... .......... ..........  2% 4.87M 2s\n",
      "   300K .......... .......... .......... .......... ..........  2%  133M 2s\n",
      "   350K .......... .......... .......... .......... ..........  3% 87.8M 1s\n",
      "   400K .......... .......... .......... .......... ..........  3% 90.9M 1s\n",
      "   450K .......... .......... .......... .......... ..........  3% 90.5M 1s\n",
      "   500K .......... .......... .......... .......... ..........  4% 6.29M 1s\n",
      "   550K .......... .......... .......... .......... ..........  4% 44.6M 1s\n",
      "   600K .......... .......... .......... .......... ..........  4%  203M 1s\n",
      "   650K .......... .......... .......... .......... ..........  5% 14.5M 1s\n",
      "   700K .......... .......... .......... .......... ..........  5%  273M 1s\n",
      "   750K .......... .......... .......... .......... ..........  6% 8.56M 1s\n",
      "   800K .......... .......... .......... .......... ..........  6%  134M 1s\n",
      "   850K .......... .......... .......... .......... ..........  6%  125M 1s\n",
      "   900K .......... .......... .......... .......... ..........  7% 99.8M 1s\n",
      "   950K .......... .......... .......... .......... ..........  7% 14.8M 1s\n",
      "  1000K .......... .......... .......... .......... ..........  7%  255M 1s\n",
      "  1050K .......... .......... .......... .......... ..........  8% 23.2M 1s\n",
      "  1100K .......... .......... .......... .......... ..........  8% 6.81M 1s\n",
      "  1150K .......... .......... .......... .......... ..........  9%  167M 1s\n",
      "  1200K .......... .......... .......... .......... ..........  9%  222M 1s\n",
      "  1250K .......... .......... .......... .......... ..........  9% 18.7M 1s\n",
      "  1300K .......... .......... .......... .......... .......... 10% 18.0M 1s\n",
      "  1350K .......... .......... .......... .......... .......... 10%  102M 1s\n",
      "  1400K .......... .......... .......... .......... .......... 10% 72.2M 1s\n",
      "  1450K .......... .......... .......... .......... .......... 11% 39.2M 1s\n",
      "  1500K .......... .......... .......... .......... .......... 11% 12.8M 1s\n",
      "  1550K .......... .......... .......... .......... .......... 12%  104M 1s\n",
      "  1600K .......... .......... .......... .......... .......... 12% 76.5M 1s\n",
      "  1650K .......... .......... .......... .......... .......... 12% 23.2M 1s\n",
      "  1700K .......... .......... .......... .......... .......... 13%  111M 1s\n",
      "  1750K .......... .......... .......... .......... .......... 13% 96.1M 1s\n",
      "  1800K .......... .......... .......... .......... .......... 13% 45.3M 1s\n",
      "  1850K .......... .......... .......... .......... .......... 14% 15.7M 1s\n",
      "  1900K .......... .......... .......... .......... .......... 14% 96.6M 1s\n",
      "  1950K .......... .......... .......... .......... .......... 15% 9.68M 1s\n",
      "  2000K .......... .......... .......... .......... .......... 15%  178M 1s\n",
      "  2050K .......... .......... .......... .......... .......... 15% 70.2M 1s\n",
      "  2100K .......... .......... .......... .......... .......... 16% 84.6M 1s\n",
      "  2150K .......... .......... .......... .......... .......... 16%  109M 1s\n",
      "  2200K .......... .......... .......... .......... .......... 16%  108M 1s\n",
      "  2250K .......... .......... .......... .......... .......... 17% 20.2M 1s\n",
      "  2300K .......... .......... .......... .......... .......... 17%  101M 0s\n",
      "  2350K .......... .......... .......... .......... .......... 18% 6.68M 1s\n",
      "  2400K .......... .......... .......... .......... .......... 18%  111M 1s\n",
      "  2450K .......... .......... .......... .......... .......... 18% 80.0M 0s\n",
      "  2500K .......... .......... .......... .......... .......... 19% 73.9M 0s\n",
      "  2550K .......... .......... .......... .......... .......... 19%  153M 0s\n",
      "  2600K .......... .......... .......... .......... .......... 20% 88.7M 0s\n",
      "  2650K .......... .......... .......... .......... .......... 20% 79.6M 0s\n",
      "  2700K .......... .......... .......... .......... .......... 20% 91.6M 0s\n",
      "  2750K .......... .......... .......... .......... .......... 21% 96.4M 0s\n",
      "  2800K .......... .......... .......... .......... .......... 21% 28.7M 0s\n",
      "  2850K .......... .......... .......... .......... .......... 21% 4.92M 0s\n",
      "  2900K .......... .......... .......... .......... .......... 22% 91.2M 0s\n",
      "  2950K .......... .......... .......... .......... .......... 22%  123M 0s\n",
      "  3000K .......... .......... .......... .......... .......... 23% 72.8M 0s\n",
      "  3050K .......... .......... .......... .......... .......... 23% 95.0M 0s\n",
      "  3100K .......... .......... .......... .......... .......... 23% 97.3M 0s\n",
      "  3150K .......... .......... .......... .......... .......... 24% 10.4M 0s\n",
      "  3200K .......... .......... .......... .......... .......... 24%  130M 0s\n",
      "  3250K .......... .......... .......... .......... .......... 24% 85.9M 0s\n",
      "  3300K .......... .......... .......... .......... .......... 25% 3.40M 0s\n",
      "  3350K .......... .......... .......... .......... .......... 25%  239M 0s\n",
      "  3400K .......... .......... .......... .......... .......... 26%  290M 0s\n",
      "  3450K .......... .......... .......... .......... .......... 26%  425M 0s\n",
      "  3500K .......... .......... .......... .......... .......... 26%  327M 0s\n",
      "  3550K .......... .......... .......... .......... .......... 27%  281M 0s\n",
      "  3600K .......... .......... .......... .......... .......... 27%  428M 0s\n",
      "  3650K .......... .......... .......... .......... .......... 27%  203M 0s\n",
      "  3700K .......... .......... .......... .......... .......... 28%  329M 0s\n",
      "  3750K .......... .......... .......... .......... .......... 28%  289M 0s\n",
      "  3800K .......... .......... .......... .......... .......... 29%  252M 0s\n",
      "  3850K .......... .......... .......... .......... .......... 29% 11.3M 0s\n",
      "  3900K .......... .......... .......... .......... .......... 29%  108M 0s\n",
      "  3950K .......... .......... .......... .......... .......... 30% 23.3M 0s\n",
      "  4000K .......... .......... .......... .......... .......... 30% 78.6M 0s\n",
      "  4050K .......... .......... .......... .......... .......... 30% 95.6M 0s\n",
      "  4100K .......... .......... .......... .......... .......... 31% 33.9M 0s\n",
      "  4150K .......... .......... .......... .......... .......... 31% 77.4M 0s\n",
      "  4200K .......... .......... .......... .......... .......... 32% 21.8M 0s\n",
      "  4250K .......... .......... .......... .......... .......... 32%  128M 0s\n",
      "  4300K .......... .......... .......... .......... .......... 32% 15.1M 0s\n",
      "  4350K .......... .......... .......... .......... .......... 33%  102M 0s\n",
      "  4400K .......... .......... .......... .......... .......... 33% 11.4M 0s\n",
      "  4450K .......... .......... .......... .......... .......... 33%  124M 0s\n",
      "  4500K .......... .......... .......... .......... .......... 34% 75.5M 0s\n",
      "  4550K .......... .......... .......... .......... .......... 34% 13.2M 0s\n",
      "  4600K .......... .......... .......... .......... .......... 35%  103M 0s\n",
      "  4650K .......... .......... .......... .......... .......... 35% 96.6M 0s\n",
      "  4700K .......... .......... .......... .......... .......... 35% 46.4M 0s\n",
      "  4750K .......... .......... .......... .......... .......... 36% 10.4M 0s\n",
      "  4800K .......... .......... .......... .......... .......... 36%  117M 0s\n",
      "  4850K .......... .......... .......... .......... .......... 36% 99.3M 0s\n",
      "  4900K .......... .......... .......... .......... .......... 37% 12.1M 0s\n",
      "  4950K .......... .......... .......... .......... .......... 37%  109M 0s\n",
      "  5000K .......... .......... .......... .......... .......... 38%  104M 0s\n",
      "  5050K .......... .......... .......... .......... .......... 38% 37.2M 0s\n",
      "  5100K .......... .......... .......... .......... .......... 38% 9.33M 0s\n",
      "  5150K .......... .......... .......... .......... .......... 39%  124M 0s\n",
      "  5200K .......... .......... .......... .......... .......... 39% 82.1M 0s\n",
      "  5250K .......... .......... .......... .......... .......... 40% 14.1M 0s\n",
      "  5300K .......... .......... .......... .......... .......... 40%  121M 0s\n",
      "  5350K .......... .......... .......... .......... .......... 40% 91.3M 0s\n",
      "  5400K .......... .......... .......... .......... .......... 41% 33.8M 0s\n",
      "  5450K .......... .......... .......... .......... .......... 41% 12.5M 0s\n",
      "  5500K .......... .......... .......... .......... .......... 41% 91.6M 0s\n",
      "  5550K .......... .......... .......... .......... .......... 42%  109M 0s\n",
      "  5600K .......... .......... .......... .......... .......... 42% 11.6M 0s\n",
      "  5650K .......... .......... .......... .......... .......... 43%  105M 0s\n",
      "  5700K .......... .......... .......... .......... .......... 43% 19.4M 0s\n",
      "  5750K .......... .......... .......... .......... .......... 43%  401M 0s\n",
      "  5800K .......... .......... .......... .......... .......... 44% 14.1M 0s\n",
      "  5850K .......... .......... .......... .......... .......... 44%  114M 0s\n",
      "  5900K .......... .......... .......... .......... .......... 44% 98.2M 0s\n",
      "  5950K .......... .......... .......... .......... .......... 45% 18.2M 0s\n",
      "  6000K .......... .......... .......... .......... .......... 45%  108M 0s\n",
      "  6050K .......... .......... .......... .......... .......... 46% 85.9M 0s\n",
      "  6100K .......... .......... .......... .......... .......... 46% 19.8M 0s\n",
      "  6150K .......... .......... .......... .......... .......... 46%  114M 0s\n",
      "  6200K .......... .......... .......... .......... .......... 47% 13.5M 0s\n",
      "  6250K .......... .......... .......... .......... .......... 47% 99.1M 0s\n",
      "  6300K .......... .......... .......... .......... .......... 47% 5.55M 0s\n",
      "  6350K .......... .......... .......... .......... .......... 48%  105M 0s\n",
      "  6400K .......... .......... .......... .......... .......... 48% 72.5M 0s\n",
      "  6450K .......... .......... .......... .......... .......... 49% 86.7M 0s\n",
      "  6500K .......... .......... .......... .......... .......... 49%  126M 0s\n",
      "  6550K .......... .......... .......... .......... .......... 49% 94.8M 0s\n",
      "  6600K .......... .......... .......... .......... .......... 50% 24.9M 0s\n",
      "  6650K .......... .......... .......... .......... .......... 50% 6.10M 0s\n",
      "  6700K .......... .......... .......... .......... .......... 50%  129M 0s\n",
      "  6750K .......... .......... .......... .......... .......... 51% 90.5M 0s\n",
      "  6800K .......... .......... .......... .......... .......... 51%  139M 0s\n",
      "  6850K .......... .......... .......... .......... .......... 52% 64.9M 0s\n",
      "  6900K .......... .......... .......... .......... .......... 52%  106M 0s\n",
      "  6950K .......... .......... .......... .......... .......... 52% 11.7M 0s\n",
      "  7000K .......... .......... .......... .......... .......... 53% 84.1M 0s\n",
      "  7050K .......... .......... .......... .......... .......... 53% 7.45M 0s\n",
      "  7100K .......... .......... .......... .......... .......... 53% 90.2M 0s\n",
      "  7150K .......... .......... .......... .......... .......... 54% 95.7M 0s\n",
      "  7200K .......... .......... .......... .......... .......... 54% 67.9M 0s\n",
      "  7250K .......... .......... .......... .......... .......... 55% 98.5M 0s\n",
      "  7300K .......... .......... .......... .......... .......... 55% 9.23M 0s\n",
      "  7350K .......... .......... .......... .......... .......... 55%  120M 0s\n",
      "  7400K .......... .......... .......... .......... .......... 56% 7.77M 0s\n",
      "  7450K .......... .......... .......... .......... .......... 56%  131M 0s\n",
      "  7500K .......... .......... .......... .......... .......... 56%  100M 0s\n",
      "  7550K .......... .......... .......... .......... .......... 57% 72.3M 0s\n",
      "  7600K .......... .......... .......... .......... .......... 57% 96.7M 0s\n",
      "  7650K .......... .......... .......... .......... .......... 58%  114M 0s\n",
      "  7700K .......... .......... .......... .......... .......... 58% 24.8M 0s\n",
      "  7750K .......... .......... .......... .......... .......... 58% 28.3M 0s\n",
      "  7800K .......... .......... .......... .......... .......... 59% 7.86M 0s\n",
      "  7850K .......... .......... .......... .......... .......... 59% 33.8M 0s\n",
      "  7900K .......... .......... .......... .......... .......... 60%  251M 0s\n",
      "  7950K .......... .......... .......... .......... .......... 60%  193M 0s\n",
      "  8000K .......... .......... .......... .......... .......... 60% 75.3M 0s\n",
      "  8050K .......... .......... .......... .......... .......... 61%  106M 0s\n",
      "  8100K .......... .......... .......... .......... .......... 61% 25.9M 0s\n",
      "  8150K .......... .......... .......... .......... .......... 61% 5.72M 0s\n",
      "  8200K .......... .......... .......... .......... .......... 62% 46.3M 0s\n",
      "  8250K .......... .......... .......... .......... .......... 62% 40.3M 0s\n",
      "  8300K .......... .......... .......... .......... .......... 63% 38.6M 0s\n",
      "  8350K .......... .......... .......... .......... .......... 63% 83.6M 0s\n",
      "  8400K .......... .......... .......... .......... .......... 63% 99.2M 0s\n",
      "  8450K .......... .......... .......... .......... .......... 64% 95.6M 0s\n",
      "  8500K .......... .......... .......... .......... .......... 64% 4.67M 0s\n",
      "  8550K .......... .......... .......... .......... .......... 64%  125M 0s\n",
      "  8600K .......... .......... .......... .......... .......... 65% 95.0M 0s\n",
      "  8650K .......... .......... .......... .......... .......... 65% 40.9M 0s\n",
      "  8700K .......... .......... .......... .......... .......... 66% 22.4M 0s\n",
      "  8750K .......... .......... .......... .......... .......... 66% 96.7M 0s\n",
      "  8800K .......... .......... .......... .......... .......... 66% 96.3M 0s\n",
      "  8850K .......... .......... .......... .......... .......... 67% 24.3M 0s\n",
      "  8900K .......... .......... .......... .......... .......... 67% 8.70M 0s\n",
      "  8950K .......... .......... .......... .......... .......... 67% 89.4M 0s\n",
      "  9000K .......... .......... .......... .......... .......... 68% 93.9M 0s\n",
      "  9050K .......... .......... .......... .......... .......... 68% 20.5M 0s\n",
      "  9100K .......... .......... .......... .......... .......... 69%  115M 0s\n",
      "  9150K .......... .......... .......... .......... .......... 69% 85.9M 0s\n",
      "  9200K .......... .......... .......... .......... .......... 69% 23.6M 0s\n",
      "  9250K .......... .......... .......... .......... .......... 70% 11.3M 0s\n",
      "  9300K .......... .......... .......... .......... .......... 70%  113M 0s\n",
      "  9350K .......... .......... .......... .......... .......... 70% 22.9M 0s\n",
      "  9400K .......... .......... .......... .......... .......... 71% 91.2M 0s\n",
      "  9450K .......... .......... .......... .......... .......... 71%  104M 0s\n",
      "  9500K .......... .......... .......... .......... .......... 72% 69.7M 0s\n",
      "  9550K .......... .......... .......... .......... .......... 72% 12.9M 0s\n",
      "  9600K .......... .......... .......... .......... .......... 72% 80.7M 0s\n",
      "  9650K .......... .......... .......... .......... .......... 73% 30.1M 0s\n",
      "  9700K .......... .......... .......... .......... .......... 73% 8.83M 0s\n",
      "  9750K .......... .......... .......... .......... .......... 73%  202M 0s\n",
      "  9800K .......... .......... .......... .......... .......... 74%  276M 0s\n",
      "  9850K .......... .......... .......... .......... .......... 74% 23.6M 0s\n",
      "  9900K .......... .......... .......... .......... .......... 75% 25.0M 0s\n",
      "  9950K .......... .......... .......... .......... .......... 75% 94.2M 0s\n",
      " 10000K .......... .......... .......... .......... .......... 75% 10.3M 0s\n",
      " 10050K .......... .......... .......... .......... .......... 76% 73.3M 0s\n",
      " 10100K .......... .......... .......... .......... .......... 76%  205M 0s\n",
      " 10150K .......... .......... .......... .......... .......... 76% 38.7M 0s\n",
      " 10200K .......... .......... .......... .......... .......... 77% 30.6M 0s\n",
      " 10250K .......... .......... .......... .......... .......... 77%  138M 0s\n",
      " 10300K .......... .......... .......... .......... .......... 78% 8.18M 0s\n",
      " 10350K .......... .......... .......... .......... .......... 78%  393M 0s\n",
      " 10400K .......... .......... .......... .......... .......... 78% 32.0M 0s\n",
      " 10450K .......... .......... .......... .......... .......... 79% 98.9M 0s\n",
      " 10500K .......... .......... .......... .......... .......... 79% 98.7M 0s\n",
      " 10550K .......... .......... .......... .......... .......... 80% 19.4M 0s\n",
      " 10600K .......... .......... .......... .......... .......... 80%  105M 0s\n",
      " 10650K .......... .......... .......... .......... .......... 80% 26.2M 0s\n",
      " 10700K .......... .......... .......... .......... .......... 81% 13.4M 0s\n",
      " 10750K .......... .......... .......... .......... .......... 81%  114M 0s\n",
      " 10800K .......... .......... .......... .......... .......... 81% 90.0M 0s\n",
      " 10850K .......... .......... .......... .......... .......... 82% 70.9M 0s\n",
      " 10900K .......... .......... .......... .......... .......... 82% 12.5M 0s\n",
      " 10950K .......... .......... .......... .......... .......... 83%  125M 0s\n",
      " 11000K .......... .......... .......... .......... .......... 83% 8.12M 0s\n",
      " 11050K .......... .......... .......... .......... .......... 83%  144M 0s\n",
      " 11100K .......... .......... .......... .......... .......... 84% 99.9M 0s\n",
      " 11150K .......... .......... .......... .......... .......... 84% 98.2M 0s\n",
      " 11200K .......... .......... .......... .......... .......... 84% 72.3M 0s\n",
      " 11250K .......... .......... .......... .......... .......... 85% 97.8M 0s\n",
      " 11300K .......... .......... .......... .......... .......... 85% 89.1M 0s\n",
      " 11350K .......... .......... .......... .......... .......... 86% 24.2M 0s\n",
      " 11400K .......... .......... .......... .......... .......... 86% 5.21M 0s\n",
      " 11450K .......... .......... .......... .......... .......... 86% 95.3M 0s\n",
      " 11500K .......... .......... .......... .......... .......... 87% 95.8M 0s\n",
      " 11550K .......... .......... .......... .......... .......... 87% 69.7M 0s\n",
      " 11600K .......... .......... .......... .......... .......... 87% 97.1M 0s\n",
      " 11650K .......... .......... .......... .......... .......... 88% 19.5M 0s\n",
      " 11700K .......... .......... .......... .......... .......... 88%  161M 0s\n",
      " 11750K .......... .......... .......... .......... .......... 89% 8.73M 0s\n",
      " 11800K .......... .......... .......... .......... .......... 89%  133M 0s\n",
      " 11850K .......... .......... .......... .......... .......... 89% 24.9M 0s\n",
      " 11900K .......... .......... .......... .......... .......... 90%  149M 0s\n",
      " 11950K .......... .......... .......... .......... .......... 90% 94.8M 0s\n",
      " 12000K .......... .......... .......... .......... .......... 90% 17.4M 0s\n",
      " 12050K .......... .......... .......... .......... .......... 91%  179M 0s\n",
      " 12100K .......... .......... .......... .......... .......... 91% 91.0M 0s\n",
      " 12150K .......... .......... .......... .......... .......... 92% 14.0M 0s\n",
      " 12200K .......... .......... .......... .......... .......... 92% 12.0M 0s\n",
      " 12250K .......... .......... .......... .......... .......... 92%  217M 0s\n",
      " 12300K .......... .......... .......... .......... .......... 93% 89.0M 0s\n",
      " 12350K .......... .......... .......... .......... .......... 93%  100M 0s\n",
      " 12400K .......... .......... .......... .......... .......... 93% 68.6M 0s\n",
      " 12450K .......... .......... .......... .......... .......... 94% 98.1M 0s\n",
      " 12500K .......... .......... .......... .......... .......... 94% 24.2M 0s\n",
      " 12550K .......... .......... .......... .......... .......... 95%  158M 0s\n",
      " 12600K .......... .......... .......... .......... .......... 95% 5.91M 0s\n",
      " 12650K .......... .......... .......... .......... .......... 95%  110M 0s\n",
      " 12700K .......... .......... .......... .......... .......... 96% 69.5M 0s\n",
      " 12750K .......... .......... .......... .......... .......... 96%  134M 0s\n",
      " 12800K .......... .......... .......... .......... .......... 96% 93.4M 0s\n",
      " 12850K .......... .......... .......... .......... .......... 97% 98.7M 0s\n",
      " 12900K .......... .......... .......... .......... .......... 97% 22.6M 0s\n",
      " 12950K .......... .......... .......... .......... .......... 98% 97.7M 0s\n",
      " 13000K .......... .......... .......... .......... .......... 98% 8.41M 0s\n",
      " 13050K .......... .......... .......... .......... .......... 98%  101M 0s\n",
      " 13100K .......... .......... .......... .......... .......... 99% 24.0M 0s\n",
      " 13150K .......... .......... .......... .......... .......... 99% 97.7M 0s\n",
      " 13200K .......... .......... .......... .......... .......   100%  124M=0.5s\n",
      "\n",
      "2022-08-03 15:35:14 (27.4 MB/s) - 'jena_climate_2009_2016.csv.zip.2' saved [13565642/13565642]\n",
      "\n"
     ]
    }
   ],
   "source": [
    "!wget https://s3.amazonaws.com/keras-datasets/jena_climate_2009_2016.csv.zip"
   ]
  },
  {
   "cell_type": "code",
   "execution_count": 25,
   "id": "0036cb1e",
   "metadata": {},
   "outputs": [],
   "source": [
    "import pandas as pd\n",
    "import numpy as np\n",
    "\n",
    "#Read in file. Create numpy array out of temperature and the rest of the data\n",
    "df = pd.read_csv('C:/Users/joshu/Documents/TensorFlow Learning Materials/jena_climate_2009_2016.csv/jena_climate_2009_2016.csv')\n",
    "df.columns = df.columns.str.replace(' ', '_')\n",
    "temperature = df['T_(degC)'].to_numpy()\n",
    "raw_data = df[['p_(mbar)', 'Tpot_(K)', 'Tdew_(degC)',\n",
    "       'rh_(%)', 'VPmax_(mbar)', 'VPact_(mbar)', 'VPdef_(mbar)', 'sh_(g/kg)',\n",
    "       'H2OC_(mmol/mol)', 'rho_(g/m**3)', 'wv_(m/s)', 'max._wv_(m/s)',\n",
    "       'wd_(deg)']].to_numpy()"
   ]
  },
  {
   "cell_type": "code",
   "execution_count": 26,
   "id": "ec1897af",
   "metadata": {},
   "outputs": [
    {
     "data": {
      "text/plain": [
       "[<matplotlib.lines.Line2D at 0x207860d2100>]"
      ]
     },
     "execution_count": 26,
     "metadata": {},
     "output_type": "execute_result"
    },
    {
     "data": {
      "image/png": "[encoded data removed]",
      "text/plain": [
       "<Figure size 432x288 with 1 Axes>"
      ]
     },
     "metadata": {
      "needs_background": "light"
     },
     "output_type": "display_data"
    }
   ],
   "source": [
    "from matplotlib import pyplot as plt\n",
    "plt.plot(range(len(temperature)), temperature)"
   ]
  },
  {
   "cell_type": "code",
   "execution_count": 27,
   "id": "77fa0401",
   "metadata": {},
   "outputs": [
    {
     "data": {
      "text/plain": [
       "[<matplotlib.lines.Line2D at 0x207e7065670>]"
      ]
     },
     "execution_count": 27,
     "metadata": {},
     "output_type": "execute_result"
    },
    {
     "data": {
      "image/png": "[encoded data removed]",
      "text/plain": [
       "<Figure size 432x288 with 1 Axes>"
      ]
     },
     "metadata": {
      "needs_background": "light"
     },
     "output_type": "display_data"
    }
   ],
   "source": [
    "#First 10 days of temperature. Temp recorded every 10 mins. So 144 points per day. 1440 every 10 days.\n",
    "plt.plot(range(1440), temperature[:1440])"
   ]
  },
  {
   "cell_type": "markdown",
   "id": "49f946a6",
   "metadata": {},
   "source": [
    "### Can you predict the temperature 24 hours in advance?"
   ]
  },
  {
   "cell_type": "code",
   "execution_count": 28,
   "id": "6c166ead",
   "metadata": {},
   "outputs": [],
   "source": [
    "#50% train, 25% val, 25% test\n",
    "num_train_samples = int(0.5 * len(raw_data))\n",
    "num_val_samples = int(0.25 * len(raw_data))\n",
    "#want val/test to be more recent than the test set\n",
    "num_test_samples = len(raw_data) - num_train_samples - num_val_samples"
   ]
  },
  {
   "cell_type": "code",
   "execution_count": 29,
   "id": "72edd00b",
   "metadata": {},
   "outputs": [],
   "source": [
    "#normalize the data\n",
    "mean = raw_data[:num_train_samples].mean(axis = 0)\n",
    "raw_data -= mean\n",
    "std = raw_data[:num_train_samples].std(axis=0)\n",
    "raw_data /= std"
   ]
  },
  {
   "cell_type": "markdown",
   "id": "d9047225",
   "metadata": {},
   "source": [
    "samples are highly redundent in time series use keras function to reduce computational load\n",
    "For example, if you use data = [0 1 2 3 4 5 6] and sequence_length=3, then timeseries_dataset_from_array() will generate the following samples: [0 1 2], [1 2 3], [2 3 4], [3 4 5], [4 5 6].\n",
    "The first entry of the targets array should match the desired target for the first sequence that will be generated from the data array. \n",
    "For instance, with data = [0 1 2 3 4 5 6 ...] and sequence_length=3, you could create a dataset to predict the next step in the series by passing targets = [3 4 5 6 ...]"
   ]
  },
  {
   "cell_type": "code",
   "execution_count": 30,
   "id": "69f14749",
   "metadata": {},
   "outputs": [
    {
     "name": "stdout",
     "output_type": "stream",
     "text": [
      "[0, 1, 2] 3\n",
      "[1, 2, 3] 4\n",
      "[2, 3, 4] 5\n",
      "[3, 4, 5] 6\n",
      "[4, 5, 6] 7\n"
     ]
    }
   ],
   "source": [
    "from tensorflow import keras\n",
    "#array of sorted integers\n",
    "int_sequence = np.arange(10)\n",
    "#keras function to reduce computation, creates offset for data so not as much of it gets stored in memory\n",
    "dummy_dataset = keras.utils.timeseries_dataset_from_array(\n",
    "    #sample from 0 - 6\n",
    "        data = int_sequence[:-3],\n",
    "    #start at 3 end at 9\n",
    "        targets = int_sequence[3:],\n",
    "    #3 step long sequence\n",
    "        sequence_length = 3, \n",
    "    #batches of size 2\n",
    "        batch_size = 2\n",
    ")\n",
    "\n",
    "for inputs, targets in dummy_dataset:\n",
    "        for i in range(inputs.shape[0]):\n",
    "            print([int(x) for x in inputs[i]], int(targets[i]))"
   ]
  },
  {
   "cell_type": "code",
   "execution_count": 31,
   "id": "30a5fca3",
   "metadata": {},
   "outputs": [],
   "source": [
    "#Create dataset for training, val, and testing\n",
    "#sample_rate = 6 - one datapoint per hour\n",
    "sampling_rate = 6\n",
    "#obs go back 5 days (120 hrs)\n",
    "sequence_length = 120\n",
    "#delay is the target for the sequence. Its a temp 24hrs after end of sequence\n",
    "delay = sampling_rate * (sequence_length + 24 - 1)\n",
    "batch_size = 256\n",
    "\n",
    "train_dataset = keras.utils.timeseries_dataset_from_array(\n",
    "    raw_data[:-delay],\n",
    "    targets = temperature[delay:],\n",
    "    sampling_rate = sampling_rate,\n",
    "    sequence_length = sequence_length,\n",
    "    shuffle = True,\n",
    "    batch_size = batch_size,\n",
    "    start_index = 0,\n",
    "    end_index = num_train_samples\n",
    ")\n",
    "\n",
    "val_dataset = keras.utils.timeseries_dataset_from_array(\n",
    "    raw_data[:-delay],\n",
    "    targets=temperature[delay:],\n",
    "    sampling_rate=sampling_rate,\n",
    "    sequence_length=sequence_length,\n",
    "    shuffle=True,\n",
    "    batch_size=batch_size,\n",
    "    start_index=num_train_samples,\n",
    "    end_index=num_train_samples + num_val_samples)\n",
    "  \n",
    "test_dataset = keras.utils.timeseries_dataset_from_array(\n",
    "    raw_data[:-delay],\n",
    "    targets=temperature[delay:],\n",
    "    sampling_rate=sampling_rate,\n",
    "    sequence_length=sequence_length,\n",
    "    shuffle=True,\n",
    "    batch_size=batch_size,\n",
    "    start_index=num_train_samples + num_val_samples)\n",
    "#Creates a tuple of (samples, targets) where samples is a batch of 256 containing 120 consecutive hrs of input data\n",
    "#targets is an array of 256 target temps. Samples are shuffled so two consecutive sequences in a batch are not temporally close."
   ]
  },
  {
   "cell_type": "markdown",
   "id": "37c08d9e",
   "metadata": {},
   "source": [
    "### Evaluate Densely Connected Model as Baseline"
   ]
  },
  {
   "cell_type": "code",
   "execution_count": 33,
   "id": "4d8e8c13",
   "metadata": {},
   "outputs": [
    {
     "name": "stdout",
     "output_type": "stream",
     "text": [
      "Epoch 1/10\n",
      "819/819 [==============================] - 15s 18ms/step - loss: 12.4733 - mae: 2.7468 - val_loss: 10.1240 - val_mae: 2.5157\n",
      "Epoch 2/10\n",
      "819/819 [==============================] - 13s 16ms/step - loss: 9.0000 - mae: 2.3639 - val_loss: 10.4805 - val_mae: 2.5571\n",
      "Epoch 3/10\n",
      "819/819 [==============================] - 13s 16ms/step - loss: 8.2768 - mae: 2.2717 - val_loss: 12.0884 - val_mae: 2.7539\n",
      "Epoch 4/10\n",
      "819/819 [==============================] - 13s 16ms/step - loss: 7.7615 - mae: 2.1999 - val_loss: 10.5283 - val_mae: 2.5633\n",
      "Epoch 5/10\n",
      "819/819 [==============================] - 13s 16ms/step - loss: 7.4494 - mae: 2.1551 - val_loss: 13.7005 - val_mae: 2.9454\n",
      "Epoch 6/10\n",
      "819/819 [==============================] - 14s 17ms/step - loss: 7.1819 - mae: 2.1169 - val_loss: 10.9494 - val_mae: 2.6133\n",
      "Epoch 7/10\n",
      "819/819 [==============================] - 14s 17ms/step - loss: 6.9644 - mae: 2.0812 - val_loss: 10.8421 - val_mae: 2.5935\n",
      "Epoch 8/10\n",
      "819/819 [==============================] - 14s 17ms/step - loss: 6.7956 - mae: 2.0575 - val_loss: 12.5694 - val_mae: 2.7989\n",
      "Epoch 9/10\n",
      "819/819 [==============================] - 14s 17ms/step - loss: 6.6638 - mae: 2.0393 - val_loss: 10.9066 - val_mae: 2.6080\n",
      "Epoch 10/10\n",
      "819/819 [==============================] - 14s 17ms/step - loss: 6.5264 - mae: 2.0171 - val_loss: 11.4309 - val_mae: 2.6625\n",
      "405/405 [==============================] - 4s 10ms/step - loss: 11.1265 - mae: 2.6172\n",
      "Test MAE: 2.62\n"
     ]
    }
   ],
   "source": [
    "from tensorflow.keras import layers\n",
    "\n",
    "inputs = keras.Input(shape=(sequence_length, raw_data.shape[-1]))\n",
    "x = layers.Flatten()(inputs)\n",
    "x = layers.Dense(16, activation = \"relu\")(x)\n",
    "outputs = layers.Dense(1)(x)\n",
    "model = keras.Model(inputs, outputs)\n",
    "\n",
    "callbacks = [keras.callbacks.ModelCheckpoint(\"jena_dense.keras\", save_best_only = True)]\n",
    "\n",
    "model.compile(optimizer = \"rmsprop\", loss = \"mse\", metrics = [\"mae\"])\n",
    "\n",
    "history = model.fit(train_dataset, epochs = 10, validation_data = val_dataset,\n",
    "                   callbacks = callbacks)\n",
    "model = keras.models.load_model(\"jena_dense.keras\")\n",
    "print(f\"Test MAE: {model.evaluate(test_dataset)[1]:.2f}\")"
   ]
  },
  {
   "cell_type": "code",
   "execution_count": 34,
   "id": "431206f0",
   "metadata": {},
   "outputs": [
    {
     "data": {
      "text/plain": [
       "<Figure size 432x288 with 0 Axes>"
      ]
     },
     "metadata": {},
     "output_type": "display_data"
    },
    {
     "data": {
      "image/png": "[encoded data removed]",
      "text/plain": [
       "<Figure size 432x288 with 1 Axes>"
      ]
     },
     "metadata": {
      "needs_background": "light"
     },
     "output_type": "display_data"
    }
   ],
   "source": [
    "plt.clf()\n",
    "loss = history.history[\"mae\"]\n",
    "val_loss = history.history[\"val_mae\"]\n",
    "epochs = range(1, len(loss) + 1)\n",
    "plt.figure()\n",
    "plt.plot(epochs, loss, \"bo\", label = \"Training MAE\")\n",
    "plt.plot(epochs, val_loss, \"b\", label = \"Validation MAE\")\n",
    "plt.title(\"Training and Validation MAE\")\n",
    "plt.legend()\n",
    "plt.show()"
   ]
  },
  {
   "cell_type": "markdown",
   "id": "60e5d12c",
   "metadata": {},
   "source": [
    "### 1D Conv Net Model"
   ]
  },
  {
   "cell_type": "code",
   "execution_count": 35,
   "id": "0fe217e8",
   "metadata": {},
   "outputs": [
    {
     "name": "stdout",
     "output_type": "stream",
     "text": [
      "Epoch 1/10\n",
      "819/819 [==============================] - 21s 19ms/step - loss: 27.3627 - mae: 4.0128 - val_loss: 19.4345 - val_mae: 3.5220\n",
      "Epoch 2/10\n",
      "819/819 [==============================] - 16s 19ms/step - loss: 15.9280 - mae: 3.1701 - val_loss: 14.2171 - val_mae: 2.9790\n",
      "Epoch 3/10\n",
      "819/819 [==============================] - 16s 20ms/step - loss: 14.2989 - mae: 3.0013 - val_loss: 16.9444 - val_mae: 3.2405\n",
      "Epoch 4/10\n",
      "819/819 [==============================] - 18s 21ms/step - loss: 13.3716 - mae: 2.8991 - val_loss: 15.6208 - val_mae: 3.1007\n",
      "Epoch 5/10\n",
      "819/819 [==============================] - 17s 20ms/step - loss: 12.7289 - mae: 2.8262 - val_loss: 14.1407 - val_mae: 2.9848\n",
      "Epoch 6/10\n",
      "819/819 [==============================] - 17s 21ms/step - loss: 12.2026 - mae: 2.7650 - val_loss: 15.8370 - val_mae: 3.1476\n",
      "Epoch 7/10\n",
      "819/819 [==============================] - 16s 19ms/step - loss: 11.7942 - mae: 2.7155 - val_loss: 14.4957 - val_mae: 2.9980\n",
      "Epoch 8/10\n",
      "819/819 [==============================] - 16s 19ms/step - loss: 11.4345 - mae: 2.6715 - val_loss: 16.5109 - val_mae: 3.1378\n",
      "Epoch 9/10\n",
      "819/819 [==============================] - 16s 19ms/step - loss: 11.0738 - mae: 2.6288 - val_loss: 16.0162 - val_mae: 3.1137\n",
      "Epoch 10/10\n",
      "819/819 [==============================] - 16s 19ms/step - loss: 10.7665 - mae: 2.5898 - val_loss: 14.9300 - val_mae: 3.0183\n",
      "405/405 [==============================] - 6s 14ms/step - loss: 15.7283 - mae: 3.1412\n",
      "Test MAE: 3.14\n"
     ]
    }
   ],
   "source": [
    "inputs = keras.Input(shape=(sequence_length, raw_data.shape[-1]))\n",
    "#Choose initial window length of 24 to look at 24 hours of data. \n",
    "#As downsample reduce the window size\n",
    "x = layers.Conv1D(8, 24, activation=\"relu\")(inputs)\n",
    "x = layers.MaxPooling1D(2)(x)\n",
    "x = layers.Conv1D(8, 12, activation=\"relu\")(x)\n",
    "x = layers.MaxPooling1D(2)(x)\n",
    "x = layers.Conv1D(8, 6, activation=\"relu\")(x)\n",
    "x = layers.GlobalAveragePooling1D()(x)\n",
    "outputs = layers.Dense(1)(x)\n",
    "model = keras.Model(inputs, outputs)\n",
    "  \n",
    "callbacks = [\n",
    "    keras.callbacks.ModelCheckpoint(\"jena_conv.keras\",\n",
    "                                    save_best_only=True)\n",
    "]\n",
    "model.compile(optimizer=\"rmsprop\", loss=\"mse\", metrics=[\"mae\"])\n",
    "history = model.fit(train_dataset,\n",
    "                    epochs=10,\n",
    "                    validation_data=val_dataset,\n",
    "                    callbacks=callbacks)\n",
    "  \n",
    "model = keras.models.load_model(\"jena_conv.keras\")\n",
    "print(f\"Test MAE: {model.evaluate(test_dataset)[1]:.2f}\")"
   ]
  },
  {
   "cell_type": "code",
   "execution_count": 36,
   "id": "5b2915c0",
   "metadata": {},
   "outputs": [
    {
     "data": {
      "text/plain": [
       "<Figure size 432x288 with 0 Axes>"
      ]
     },
     "metadata": {},
     "output_type": "display_data"
    },
    {
     "data": {
      "image/png": "[encoded data removed]",
      "text/plain": [
       "<Figure size 432x288 with 1 Axes>"
      ]
     },
     "metadata": {
      "needs_background": "light"
     },
     "output_type": "display_data"
    }
   ],
   "source": [
    "#This model performs worse than the previous.\n",
    "plt.clf()\n",
    "loss = history.history[\"mae\"]\n",
    "val_loss = history.history[\"val_mae\"]\n",
    "epochs = range(1, len(loss) + 1)\n",
    "plt.figure()\n",
    "plt.plot(epochs, loss, \"bo\", label = \"Training MAE\")\n",
    "plt.plot(epochs, val_loss, \"b\", label = \"Validation MAE\")\n",
    "plt.title(\"Training and Validation MAE\")\n",
    "plt.legend()\n",
    "plt.show()"
   ]
  },
  {
   "cell_type": "markdown",
   "id": "6ab20c51",
   "metadata": {},
   "source": [
    "#### Performs worse because timeseries conv does not respect translation invariance assumption. Temperture does feature daily cycles but, days follow different properties from nights. Also max pooling and global average pooling destroy the order of the information."
   ]
  },
  {
   "cell_type": "markdown",
   "id": "1a3468a5",
   "metadata": {},
   "source": [
    "### Recurrent Neural Networks - LSTM"
   ]
  },
  {
   "cell_type": "code",
   "execution_count": 37,
   "id": "2728e9b7",
   "metadata": {},
   "outputs": [
    {
     "name": "stdout",
     "output_type": "stream",
     "text": [
      "Epoch 1/10\n",
      "819/819 [==============================] - 25s 27ms/step - loss: 44.0416 - mae: 4.8199 - val_loss: 13.0296 - val_mae: 2.7375\n",
      "Epoch 2/10\n",
      "819/819 [==============================] - 20s 25ms/step - loss: 11.1614 - mae: 2.5912 - val_loss: 9.6771 - val_mae: 2.4295\n",
      "Epoch 3/10\n",
      "819/819 [==============================] - 21s 26ms/step - loss: 9.8783 - mae: 2.4544 - val_loss: 9.7593 - val_mae: 2.4520\n",
      "Epoch 4/10\n",
      "819/819 [==============================] - 20s 25ms/step - loss: 9.4280 - mae: 2.3936 - val_loss: 9.7684 - val_mae: 2.4423\n",
      "Epoch 5/10\n",
      "819/819 [==============================] - 19s 24ms/step - loss: 9.0627 - mae: 2.3439 - val_loss: 9.9128 - val_mae: 2.4628\n",
      "Epoch 6/10\n",
      "819/819 [==============================] - 20s 24ms/step - loss: 8.8026 - mae: 2.3086 - val_loss: 9.8683 - val_mae: 2.4492\n",
      "Epoch 7/10\n",
      "819/819 [==============================] - 20s 25ms/step - loss: 8.5919 - mae: 2.2783 - val_loss: 9.9489 - val_mae: 2.4720\n",
      "Epoch 8/10\n",
      "819/819 [==============================] - 21s 26ms/step - loss: 8.4023 - mae: 2.2506 - val_loss: 9.9844 - val_mae: 2.4804\n",
      "Epoch 9/10\n",
      "819/819 [==============================] - 20s 24ms/step - loss: 8.2415 - mae: 2.2278 - val_loss: 10.1319 - val_mae: 2.4969\n",
      "Epoch 10/10\n",
      "819/819 [==============================] - 20s 24ms/step - loss: 8.0984 - mae: 2.2062 - val_loss: 10.0826 - val_mae: 2.4873\n",
      "405/405 [==============================] - 6s 14ms/step - loss: 10.8644 - mae: 2.5761\n",
      "Test MAE: 2.58\n"
     ]
    }
   ],
   "source": [
    "#Simple LSTM model\n",
    "inputs = keras.Input(shape=(sequence_length, raw_data.shape[-1]))\n",
    "x = layers.LSTM(16)(inputs)\n",
    "outputs = layers.Dense(1)(x)\n",
    "model = keras.Model(inputs, outputs)\n",
    "\n",
    "callbacks = [keras.callbacks.ModelCheckpoint(\"jena_lstm.keras\", save_best_only=True)]\n",
    "\n",
    "model.compile(optimizer=\"rmsprop\", loss=\"mse\", metrics=[\"mae\"])\n",
    "history = model.fit(train_dataset,\n",
    "                   epochs = 10, \n",
    "                   validation_data=val_dataset,\n",
    "                   callbacks=callbacks)\n",
    "model = keras.models.load_model(\"jena_lstm.keras\")\n",
    "print(f\"Test MAE: {model.evaluate(test_dataset)[1]:.2f}\")"
   ]
  },
  {
   "cell_type": "code",
   "execution_count": 38,
   "id": "a166683e",
   "metadata": {},
   "outputs": [
    {
     "data": {
      "text/plain": [
       "<Figure size 432x288 with 0 Axes>"
      ]
     },
     "metadata": {},
     "output_type": "display_data"
    },
    {
     "data": {
      "image/png": "[encoded data removed]",
      "text/plain": [
       "<Figure size 432x288 with 1 Axes>"
      ]
     },
     "metadata": {
      "needs_background": "light"
     },
     "output_type": "display_data"
    }
   ],
   "source": [
    "#Performs alot better!\n",
    "plt.clf()\n",
    "loss = history.history[\"mae\"]\n",
    "val_loss = history.history[\"val_mae\"]\n",
    "epochs = range(1, len(loss) + 1)\n",
    "plt.figure()\n",
    "plt.plot(epochs, loss, \"bo\", label = \"Training MAE\")\n",
    "plt.plot(epochs, val_loss, \"b\", label = \"Validation MAE\")\n",
    "plt.title(\"Training and Validation MAE\")\n",
    "plt.legend()\n",
    "plt.show()"
   ]
  },
  {
   "cell_type": "markdown",
   "id": "fda144c3",
   "metadata": {},
   "source": [
    "### RNN Keras Features"
   ]
  },
  {
   "cell_type": "code",
   "execution_count": 39,
   "id": "8a07793b",
   "metadata": {},
   "outputs": [
    {
     "name": "stdout",
     "output_type": "stream",
     "text": [
      "(None, 16)\n"
     ]
    }
   ],
   "source": [
    "#RNN that returns only its last output step (works for lstm/gru) i.e. (batchsize, output features)\n",
    "num_features = 14\n",
    "steps = 120\n",
    "#Can set steps to none if you dont want to specify length of timestep to process\n",
    "inputs = keras.Input(shape=(steps, num_features))\n",
    "outputs = layers.SimpleRNN(16, return_sequences=False)(inputs)\n",
    "print(outputs.shape)"
   ]
  },
  {
   "cell_type": "code",
   "execution_count": 40,
   "id": "bffaf5a7",
   "metadata": {},
   "outputs": [
    {
     "name": "stdout",
     "output_type": "stream",
     "text": [
      "(None, 120, 16)\n"
     ]
    }
   ],
   "source": [
    "#RNN that returns full output sequence - (batchsize, timesteps, output features)\n",
    "num_features = 14\n",
    "steps = 120\n",
    "inputs = keras.Input(shape=(steps, num_features))\n",
    "outputs = layers.SimpleRNN(16, return_sequences = True)(inputs)\n",
    "print(outputs.shape)"
   ]
  },
  {
   "cell_type": "markdown",
   "id": "1d876441",
   "metadata": {},
   "source": [
    "#### Recurrent Dropout"
   ]
  },
  {
   "cell_type": "code",
   "execution_count": 42,
   "id": "1e6afe98",
   "metadata": {},
   "outputs": [
    {
     "name": "stdout",
     "output_type": "stream",
     "text": [
      "WARNING:tensorflow:Layer lstm_1 will not use cuDNN kernels since it doesn't meet the criteria. It will use a generic GPU kernel as fallback when running on GPU.\n",
      "Epoch 1/50\n",
      "819/819 [==============================] - 405s 492ms/step - loss: 30.3355 - mae: 4.0439 - val_loss: 9.9755 - val_mae: 2.4633\n",
      "Epoch 2/50\n",
      "819/819 [==============================] - 401s 490ms/step - loss: 14.8820 - mae: 2.9926 - val_loss: 9.3420 - val_mae: 2.3735\n",
      "Epoch 3/50\n",
      "819/819 [==============================] - 416s 508ms/step - loss: 14.0532 - mae: 2.9022 - val_loss: 9.4583 - val_mae: 2.3928\n",
      "Epoch 4/50\n",
      "819/819 [==============================] - 413s 505ms/step - loss: 13.4816 - mae: 2.8463 - val_loss: 9.3165 - val_mae: 2.3650\n",
      "Epoch 5/50\n",
      "819/819 [==============================] - 417s 509ms/step - loss: 12.9294 - mae: 2.7886 - val_loss: 9.1299 - val_mae: 2.3465\n",
      "Epoch 6/50\n",
      "819/819 [==============================] - 411s 501ms/step - loss: 12.4804 - mae: 2.7400 - val_loss: 9.4262 - val_mae: 2.4052\n",
      "Epoch 7/50\n",
      "819/819 [==============================] - 424s 517ms/step - loss: 12.1270 - mae: 2.7043 - val_loss: 9.5717 - val_mae: 2.4359\n",
      "Epoch 8/50\n",
      "819/819 [==============================] - 414s 506ms/step - loss: 11.7268 - mae: 2.6573 - val_loss: 9.3686 - val_mae: 2.4047\n",
      "Epoch 9/50\n",
      "819/819 [==============================] - 416s 508ms/step - loss: 11.4920 - mae: 2.6311 - val_loss: 9.3657 - val_mae: 2.3886\n",
      "Epoch 10/50\n",
      "819/819 [==============================] - 455s 556ms/step - loss: 11.1894 - mae: 2.5986 - val_loss: 9.1919 - val_mae: 2.3789\n",
      "Epoch 11/50\n",
      "819/819 [==============================] - 438s 535ms/step - loss: 11.0186 - mae: 2.5790 - val_loss: 9.4574 - val_mae: 2.4095\n",
      "Epoch 12/50\n",
      "819/819 [==============================] - 445s 543ms/step - loss: 10.8787 - mae: 2.5630 - val_loss: 9.2665 - val_mae: 2.3918\n",
      "Epoch 13/50\n",
      "819/819 [==============================] - 432s 528ms/step - loss: 10.7197 - mae: 2.5449 - val_loss: 9.3249 - val_mae: 2.3880\n",
      "Epoch 14/50\n",
      "819/819 [==============================] - 428s 522ms/step - loss: 10.5660 - mae: 2.5287 - val_loss: 9.8245 - val_mae: 2.4512\n",
      "Epoch 15/50\n",
      "819/819 [==============================] - 421s 514ms/step - loss: 10.3744 - mae: 2.5056 - val_loss: 10.0868 - val_mae: 2.4885\n",
      "Epoch 16/50\n",
      "819/819 [==============================] - 398s 486ms/step - loss: 10.3317 - mae: 2.4982 - val_loss: 9.4690 - val_mae: 2.4162\n",
      "Epoch 17/50\n",
      "819/819 [==============================] - 414s 505ms/step - loss: 10.1556 - mae: 2.4802 - val_loss: 10.1221 - val_mae: 2.4884\n",
      "Epoch 18/50\n",
      "819/819 [==============================] - 424s 518ms/step - loss: 10.1128 - mae: 2.4726 - val_loss: 9.7502 - val_mae: 2.4415\n",
      "Epoch 19/50\n",
      "819/819 [==============================] - 419s 511ms/step - loss: 10.0239 - mae: 2.4591 - val_loss: 9.7977 - val_mae: 2.4502\n",
      "Epoch 20/50\n",
      "819/819 [==============================] - 418s 510ms/step - loss: 9.9545 - mae: 2.4511 - val_loss: 10.2689 - val_mae: 2.5116\n",
      "Epoch 21/50\n",
      "819/819 [==============================] - 406s 495ms/step - loss: 9.8341 - mae: 2.4352 - val_loss: 10.1060 - val_mae: 2.5010\n",
      "Epoch 22/50\n",
      "819/819 [==============================] - 420s 512ms/step - loss: 9.7784 - mae: 2.4258 - val_loss: 10.5273 - val_mae: 2.5445\n",
      "Epoch 23/50\n",
      "819/819 [==============================] - 422s 515ms/step - loss: 9.7087 - mae: 2.4172 - val_loss: 10.3342 - val_mae: 2.5280\n",
      "Epoch 24/50\n",
      "819/819 [==============================] - 428s 522ms/step - loss: 9.6334 - mae: 2.4054 - val_loss: 10.5215 - val_mae: 2.5447\n",
      "Epoch 25/50\n",
      "819/819 [==============================] - 413s 505ms/step - loss: 9.5760 - mae: 2.4027 - val_loss: 10.2099 - val_mae: 2.5162\n",
      "Epoch 26/50\n",
      "317/819 [==========>...................] - ETA: 4:08 - loss: 9.5895 - mae: 2.3974"
     ]
    },
    {
     "ename": "KeyboardInterrupt",
     "evalue": "",
     "output_type": "error",
     "traceback": [
      "\u001b[1;31m---------------------------------------------------------------------------\u001b[0m",
      "\u001b[1;31mKeyboardInterrupt\u001b[0m                         Traceback (most recent call last)",
      "Input \u001b[1;32mIn [42]\u001b[0m, in \u001b[0;36m<cell line: 14>\u001b[1;34m()\u001b[0m\n\u001b[0;32m     10\u001b[0m callback \u001b[38;5;241m=\u001b[39m [keras\u001b[38;5;241m.\u001b[39mcallbacks\u001b[38;5;241m.\u001b[39mModelCheckpoint(\u001b[38;5;124m\"\u001b[39m\u001b[38;5;124mjena_lstm_dropout.keras\u001b[39m\u001b[38;5;124m\"\u001b[39m,\n\u001b[0;32m     11\u001b[0m                                            save_best_only \u001b[38;5;241m=\u001b[39m \u001b[38;5;28;01mTrue\u001b[39;00m)]\n\u001b[0;32m     13\u001b[0m model\u001b[38;5;241m.\u001b[39mcompile(optimizer \u001b[38;5;241m=\u001b[39m \u001b[38;5;124m\"\u001b[39m\u001b[38;5;124mrmsprop\u001b[39m\u001b[38;5;124m\"\u001b[39m, loss \u001b[38;5;241m=\u001b[39m\u001b[38;5;124m\"\u001b[39m\u001b[38;5;124mmse\u001b[39m\u001b[38;5;124m\"\u001b[39m, metrics \u001b[38;5;241m=\u001b[39m [\u001b[38;5;124m\"\u001b[39m\u001b[38;5;124mmae\u001b[39m\u001b[38;5;124m\"\u001b[39m])\n\u001b[1;32m---> 14\u001b[0m history \u001b[38;5;241m=\u001b[39m \u001b[43mmodel\u001b[49m\u001b[38;5;241;43m.\u001b[39;49m\u001b[43mfit\u001b[49m\u001b[43m(\u001b[49m\u001b[43mtrain_dataset\u001b[49m\u001b[43m,\u001b[49m\n\u001b[0;32m     15\u001b[0m \u001b[43m                   \u001b[49m\u001b[43mepochs\u001b[49m\u001b[43m \u001b[49m\u001b[38;5;241;43m=\u001b[39;49m\u001b[43m \u001b[49m\u001b[38;5;241;43m50\u001b[39;49m\u001b[43m,\u001b[49m\n\u001b[0;32m     16\u001b[0m \u001b[43m                   \u001b[49m\u001b[43mvalidation_data\u001b[49m\u001b[43m \u001b[49m\u001b[38;5;241;43m=\u001b[39;49m\u001b[43m \u001b[49m\u001b[43mval_dataset\u001b[49m\u001b[43m,\u001b[49m\n\u001b[0;32m     17\u001b[0m \u001b[43m                   \u001b[49m\u001b[43mcallbacks\u001b[49m\u001b[43m \u001b[49m\u001b[38;5;241;43m=\u001b[39;49m\u001b[43m \u001b[49m\u001b[43mcallbacks\u001b[49m\u001b[43m)\u001b[49m\n",
      "File \u001b[1;32m~\\anaconda\\envs\\tf-gpu\\lib\\site-packages\\tensorflow\\python\\keras\\engine\\training.py:1193\u001b[0m, in \u001b[0;36mModel.fit\u001b[1;34m(self, x, y, batch_size, epochs, verbose, callbacks, validation_split, validation_data, shuffle, class_weight, sample_weight, initial_epoch, steps_per_epoch, validation_steps, validation_batch_size, validation_freq, max_queue_size, workers, use_multiprocessing)\u001b[0m\n\u001b[0;32m   1186\u001b[0m \u001b[38;5;28;01mwith\u001b[39;00m trace\u001b[38;5;241m.\u001b[39mTrace(\n\u001b[0;32m   1187\u001b[0m     \u001b[38;5;124m'\u001b[39m\u001b[38;5;124mtrain\u001b[39m\u001b[38;5;124m'\u001b[39m,\n\u001b[0;32m   1188\u001b[0m     epoch_num\u001b[38;5;241m=\u001b[39mepoch,\n\u001b[0;32m   1189\u001b[0m     step_num\u001b[38;5;241m=\u001b[39mstep,\n\u001b[0;32m   1190\u001b[0m     batch_size\u001b[38;5;241m=\u001b[39mbatch_size,\n\u001b[0;32m   1191\u001b[0m     _r\u001b[38;5;241m=\u001b[39m\u001b[38;5;241m1\u001b[39m):\n\u001b[0;32m   1192\u001b[0m   callbacks\u001b[38;5;241m.\u001b[39mon_train_batch_begin(step)\n\u001b[1;32m-> 1193\u001b[0m   tmp_logs \u001b[38;5;241m=\u001b[39m \u001b[38;5;28;43mself\u001b[39;49m\u001b[38;5;241;43m.\u001b[39;49m\u001b[43mtrain_function\u001b[49m\u001b[43m(\u001b[49m\u001b[43miterator\u001b[49m\u001b[43m)\u001b[49m\n\u001b[0;32m   1194\u001b[0m   \u001b[38;5;28;01mif\u001b[39;00m data_handler\u001b[38;5;241m.\u001b[39mshould_sync:\n\u001b[0;32m   1195\u001b[0m     context\u001b[38;5;241m.\u001b[39masync_wait()\n",
      "File \u001b[1;32m~\\anaconda\\envs\\tf-gpu\\lib\\site-packages\\tensorflow\\python\\eager\\def_function.py:885\u001b[0m, in \u001b[0;36mFunction.__call__\u001b[1;34m(self, *args, **kwds)\u001b[0m\n\u001b[0;32m    882\u001b[0m compiler \u001b[38;5;241m=\u001b[39m \u001b[38;5;124m\"\u001b[39m\u001b[38;5;124mxla\u001b[39m\u001b[38;5;124m\"\u001b[39m \u001b[38;5;28;01mif\u001b[39;00m \u001b[38;5;28mself\u001b[39m\u001b[38;5;241m.\u001b[39m_jit_compile \u001b[38;5;28;01melse\u001b[39;00m \u001b[38;5;124m\"\u001b[39m\u001b[38;5;124mnonXla\u001b[39m\u001b[38;5;124m\"\u001b[39m\n\u001b[0;32m    884\u001b[0m \u001b[38;5;28;01mwith\u001b[39;00m OptionalXlaContext(\u001b[38;5;28mself\u001b[39m\u001b[38;5;241m.\u001b[39m_jit_compile):\n\u001b[1;32m--> 885\u001b[0m   result \u001b[38;5;241m=\u001b[39m \u001b[38;5;28mself\u001b[39m\u001b[38;5;241m.\u001b[39m_call(\u001b[38;5;241m*\u001b[39margs, \u001b[38;5;241m*\u001b[39m\u001b[38;5;241m*\u001b[39mkwds)\n\u001b[0;32m    887\u001b[0m new_tracing_count \u001b[38;5;241m=\u001b[39m \u001b[38;5;28mself\u001b[39m\u001b[38;5;241m.\u001b[39mexperimental_get_tracing_count()\n\u001b[0;32m    888\u001b[0m without_tracing \u001b[38;5;241m=\u001b[39m (tracing_count \u001b[38;5;241m==\u001b[39m new_tracing_count)\n",
      "File \u001b[1;32m~\\anaconda\\envs\\tf-gpu\\lib\\site-packages\\tensorflow\\python\\eager\\def_function.py:917\u001b[0m, in \u001b[0;36mFunction._call\u001b[1;34m(self, *args, **kwds)\u001b[0m\n\u001b[0;32m    914\u001b[0m   \u001b[38;5;28mself\u001b[39m\u001b[38;5;241m.\u001b[39m_lock\u001b[38;5;241m.\u001b[39mrelease()\n\u001b[0;32m    915\u001b[0m   \u001b[38;5;66;03m# In this case we have created variables on the first call, so we run the\u001b[39;00m\n\u001b[0;32m    916\u001b[0m   \u001b[38;5;66;03m# defunned version which is guaranteed to never create variables.\u001b[39;00m\n\u001b[1;32m--> 917\u001b[0m   \u001b[38;5;28;01mreturn\u001b[39;00m \u001b[38;5;28mself\u001b[39m\u001b[38;5;241m.\u001b[39m_stateless_fn(\u001b[38;5;241m*\u001b[39margs, \u001b[38;5;241m*\u001b[39m\u001b[38;5;241m*\u001b[39mkwds)  \u001b[38;5;66;03m# pylint: disable=not-callable\u001b[39;00m\n\u001b[0;32m    918\u001b[0m \u001b[38;5;28;01melif\u001b[39;00m \u001b[38;5;28mself\u001b[39m\u001b[38;5;241m.\u001b[39m_stateful_fn \u001b[38;5;129;01mis\u001b[39;00m \u001b[38;5;129;01mnot\u001b[39;00m \u001b[38;5;28;01mNone\u001b[39;00m:\n\u001b[0;32m    919\u001b[0m   \u001b[38;5;66;03m# Release the lock early so that multiple threads can perform the call\u001b[39;00m\n\u001b[0;32m    920\u001b[0m   \u001b[38;5;66;03m# in parallel.\u001b[39;00m\n\u001b[0;32m    921\u001b[0m   \u001b[38;5;28mself\u001b[39m\u001b[38;5;241m.\u001b[39m_lock\u001b[38;5;241m.\u001b[39mrelease()\n",
      "File \u001b[1;32m~\\anaconda\\envs\\tf-gpu\\lib\\site-packages\\tensorflow\\python\\eager\\function.py:3039\u001b[0m, in \u001b[0;36mFunction.__call__\u001b[1;34m(self, *args, **kwargs)\u001b[0m\n\u001b[0;32m   3036\u001b[0m \u001b[38;5;28;01mwith\u001b[39;00m \u001b[38;5;28mself\u001b[39m\u001b[38;5;241m.\u001b[39m_lock:\n\u001b[0;32m   3037\u001b[0m   (graph_function,\n\u001b[0;32m   3038\u001b[0m    filtered_flat_args) \u001b[38;5;241m=\u001b[39m \u001b[38;5;28mself\u001b[39m\u001b[38;5;241m.\u001b[39m_maybe_define_function(args, kwargs)\n\u001b[1;32m-> 3039\u001b[0m \u001b[38;5;28;01mreturn\u001b[39;00m \u001b[43mgraph_function\u001b[49m\u001b[38;5;241;43m.\u001b[39;49m\u001b[43m_call_flat\u001b[49m\u001b[43m(\u001b[49m\n\u001b[0;32m   3040\u001b[0m \u001b[43m    \u001b[49m\u001b[43mfiltered_flat_args\u001b[49m\u001b[43m,\u001b[49m\u001b[43m \u001b[49m\u001b[43mcaptured_inputs\u001b[49m\u001b[38;5;241;43m=\u001b[39;49m\u001b[43mgraph_function\u001b[49m\u001b[38;5;241;43m.\u001b[39;49m\u001b[43mcaptured_inputs\u001b[49m\u001b[43m)\u001b[49m\n",
      "File \u001b[1;32m~\\anaconda\\envs\\tf-gpu\\lib\\site-packages\\tensorflow\\python\\eager\\function.py:1963\u001b[0m, in \u001b[0;36mConcreteFunction._call_flat\u001b[1;34m(self, args, captured_inputs, cancellation_manager)\u001b[0m\n\u001b[0;32m   1959\u001b[0m possible_gradient_type \u001b[38;5;241m=\u001b[39m gradients_util\u001b[38;5;241m.\u001b[39mPossibleTapeGradientTypes(args)\n\u001b[0;32m   1960\u001b[0m \u001b[38;5;28;01mif\u001b[39;00m (possible_gradient_type \u001b[38;5;241m==\u001b[39m gradients_util\u001b[38;5;241m.\u001b[39mPOSSIBLE_GRADIENT_TYPES_NONE\n\u001b[0;32m   1961\u001b[0m     \u001b[38;5;129;01mand\u001b[39;00m executing_eagerly):\n\u001b[0;32m   1962\u001b[0m   \u001b[38;5;66;03m# No tape is watching; skip to running the function.\u001b[39;00m\n\u001b[1;32m-> 1963\u001b[0m   \u001b[38;5;28;01mreturn\u001b[39;00m \u001b[38;5;28mself\u001b[39m\u001b[38;5;241m.\u001b[39m_build_call_outputs(\u001b[38;5;28;43mself\u001b[39;49m\u001b[38;5;241;43m.\u001b[39;49m\u001b[43m_inference_function\u001b[49m\u001b[38;5;241;43m.\u001b[39;49m\u001b[43mcall\u001b[49m\u001b[43m(\u001b[49m\n\u001b[0;32m   1964\u001b[0m \u001b[43m      \u001b[49m\u001b[43mctx\u001b[49m\u001b[43m,\u001b[49m\u001b[43m \u001b[49m\u001b[43margs\u001b[49m\u001b[43m,\u001b[49m\u001b[43m \u001b[49m\u001b[43mcancellation_manager\u001b[49m\u001b[38;5;241;43m=\u001b[39;49m\u001b[43mcancellation_manager\u001b[49m\u001b[43m)\u001b[49m)\n\u001b[0;32m   1965\u001b[0m forward_backward \u001b[38;5;241m=\u001b[39m \u001b[38;5;28mself\u001b[39m\u001b[38;5;241m.\u001b[39m_select_forward_and_backward_functions(\n\u001b[0;32m   1966\u001b[0m     args,\n\u001b[0;32m   1967\u001b[0m     possible_gradient_type,\n\u001b[0;32m   1968\u001b[0m     executing_eagerly)\n\u001b[0;32m   1969\u001b[0m forward_function, args_with_tangents \u001b[38;5;241m=\u001b[39m forward_backward\u001b[38;5;241m.\u001b[39mforward()\n",
      "File \u001b[1;32m~\\anaconda\\envs\\tf-gpu\\lib\\site-packages\\tensorflow\\python\\eager\\function.py:591\u001b[0m, in \u001b[0;36m_EagerDefinedFunction.call\u001b[1;34m(self, ctx, args, cancellation_manager)\u001b[0m\n\u001b[0;32m    589\u001b[0m \u001b[38;5;28;01mwith\u001b[39;00m _InterpolateFunctionError(\u001b[38;5;28mself\u001b[39m):\n\u001b[0;32m    590\u001b[0m   \u001b[38;5;28;01mif\u001b[39;00m cancellation_manager \u001b[38;5;129;01mis\u001b[39;00m \u001b[38;5;28;01mNone\u001b[39;00m:\n\u001b[1;32m--> 591\u001b[0m     outputs \u001b[38;5;241m=\u001b[39m \u001b[43mexecute\u001b[49m\u001b[38;5;241;43m.\u001b[39;49m\u001b[43mexecute\u001b[49m\u001b[43m(\u001b[49m\n\u001b[0;32m    592\u001b[0m \u001b[43m        \u001b[49m\u001b[38;5;28;43mstr\u001b[39;49m\u001b[43m(\u001b[49m\u001b[38;5;28;43mself\u001b[39;49m\u001b[38;5;241;43m.\u001b[39;49m\u001b[43msignature\u001b[49m\u001b[38;5;241;43m.\u001b[39;49m\u001b[43mname\u001b[49m\u001b[43m)\u001b[49m\u001b[43m,\u001b[49m\n\u001b[0;32m    593\u001b[0m \u001b[43m        \u001b[49m\u001b[43mnum_outputs\u001b[49m\u001b[38;5;241;43m=\u001b[39;49m\u001b[38;5;28;43mself\u001b[39;49m\u001b[38;5;241;43m.\u001b[39;49m\u001b[43m_num_outputs\u001b[49m\u001b[43m,\u001b[49m\n\u001b[0;32m    594\u001b[0m \u001b[43m        \u001b[49m\u001b[43minputs\u001b[49m\u001b[38;5;241;43m=\u001b[39;49m\u001b[43margs\u001b[49m\u001b[43m,\u001b[49m\n\u001b[0;32m    595\u001b[0m \u001b[43m        \u001b[49m\u001b[43mattrs\u001b[49m\u001b[38;5;241;43m=\u001b[39;49m\u001b[43mattrs\u001b[49m\u001b[43m,\u001b[49m\n\u001b[0;32m    596\u001b[0m \u001b[43m        \u001b[49m\u001b[43mctx\u001b[49m\u001b[38;5;241;43m=\u001b[39;49m\u001b[43mctx\u001b[49m\u001b[43m)\u001b[49m\n\u001b[0;32m    597\u001b[0m   \u001b[38;5;28;01melse\u001b[39;00m:\n\u001b[0;32m    598\u001b[0m     outputs \u001b[38;5;241m=\u001b[39m execute\u001b[38;5;241m.\u001b[39mexecute_with_cancellation(\n\u001b[0;32m    599\u001b[0m         \u001b[38;5;28mstr\u001b[39m(\u001b[38;5;28mself\u001b[39m\u001b[38;5;241m.\u001b[39msignature\u001b[38;5;241m.\u001b[39mname),\n\u001b[0;32m    600\u001b[0m         num_outputs\u001b[38;5;241m=\u001b[39m\u001b[38;5;28mself\u001b[39m\u001b[38;5;241m.\u001b[39m_num_outputs,\n\u001b[1;32m   (...)\u001b[0m\n\u001b[0;32m    603\u001b[0m         ctx\u001b[38;5;241m=\u001b[39mctx,\n\u001b[0;32m    604\u001b[0m         cancellation_manager\u001b[38;5;241m=\u001b[39mcancellation_manager)\n",
      "File \u001b[1;32m~\\anaconda\\envs\\tf-gpu\\lib\\site-packages\\tensorflow\\python\\eager\\execute.py:59\u001b[0m, in \u001b[0;36mquick_execute\u001b[1;34m(op_name, num_outputs, inputs, attrs, ctx, name)\u001b[0m\n\u001b[0;32m     57\u001b[0m \u001b[38;5;28;01mtry\u001b[39;00m:\n\u001b[0;32m     58\u001b[0m   ctx\u001b[38;5;241m.\u001b[39mensure_initialized()\n\u001b[1;32m---> 59\u001b[0m   tensors \u001b[38;5;241m=\u001b[39m \u001b[43mpywrap_tfe\u001b[49m\u001b[38;5;241;43m.\u001b[39;49m\u001b[43mTFE_Py_Execute\u001b[49m\u001b[43m(\u001b[49m\u001b[43mctx\u001b[49m\u001b[38;5;241;43m.\u001b[39;49m\u001b[43m_handle\u001b[49m\u001b[43m,\u001b[49m\u001b[43m \u001b[49m\u001b[43mdevice_name\u001b[49m\u001b[43m,\u001b[49m\u001b[43m \u001b[49m\u001b[43mop_name\u001b[49m\u001b[43m,\u001b[49m\n\u001b[0;32m     60\u001b[0m \u001b[43m                                      \u001b[49m\u001b[43minputs\u001b[49m\u001b[43m,\u001b[49m\u001b[43m \u001b[49m\u001b[43mattrs\u001b[49m\u001b[43m,\u001b[49m\u001b[43m \u001b[49m\u001b[43mnum_outputs\u001b[49m\u001b[43m)\u001b[49m\n\u001b[0;32m     61\u001b[0m \u001b[38;5;28;01mexcept\u001b[39;00m core\u001b[38;5;241m.\u001b[39m_NotOkStatusException \u001b[38;5;28;01mas\u001b[39;00m e:\n\u001b[0;32m     62\u001b[0m   \u001b[38;5;28;01mif\u001b[39;00m name \u001b[38;5;129;01mis\u001b[39;00m \u001b[38;5;129;01mnot\u001b[39;00m \u001b[38;5;28;01mNone\u001b[39;00m:\n",
      "\u001b[1;31mKeyboardInterrupt\u001b[0m: "
     ]
    }
   ],
   "source": [
    "#Recurrent dropout works differently than regular dropout. Rather than a random mask on the weights.\n",
    "#Recurrent dropout creates a mask over each timestep \n",
    "\n",
    "inputs = keras.Input(shape=(sequence_length, raw_data.shape[-1]))\n",
    "x = layers.LSTM(32, recurrent_dropout = 0.25)(inputs)\n",
    "x = layers.Dropout(0.5)(x)\n",
    "outputs = layers.Dense(1)(x)\n",
    "model = keras.Model(inputs, outputs)\n",
    "\n",
    "callback = [keras.callbacks.ModelCheckpoint(\"jena_lstm_dropout.keras\",\n",
    "                                           save_best_only = True)]\n",
    "\n",
    "model.compile(optimizer = \"rmsprop\", loss =\"mse\", metrics = [\"mae\"])\n",
    "history = model.fit(train_dataset,\n",
    "                   epochs = 50,\n",
    "                   validation_data = val_dataset,\n",
    "                   callbacks = callbacks)"
   ]
  },
  {
   "cell_type": "code",
   "execution_count": null,
   "id": "47e32252",
   "metadata": {},
   "outputs": [],
   "source": [
    "#The above is considerably slower because recurrent dropout is not supported by the NVIDIA kernel\n",
    "#Can use unrolling to try and speed up but it increases memory consumption and is only reccomended for small sequences\n",
    "\n",
    "#Sequence length cannot be none\n",
    "input = keras.Input(shape=(sequence_length, num_features))\n",
    "#Make unrolling = true\n",
    "x = layers.LSTM(32, recurrent_dropout = 0.2, unroll = True)(inputs)"
   ]
  },
  {
   "cell_type": "markdown",
   "id": "86c5c5c2",
   "metadata": {},
   "source": [
    "#### Stacking Layers Example"
   ]
  },
  {
   "cell_type": "code",
   "execution_count": null,
   "id": "51d6c28b",
   "metadata": {},
   "outputs": [],
   "source": [
    "#droupout regularized, stacked GRU Model\n",
    "\n",
    "inputs = keras.Input(shape=(sequence_length, raw_data.shape[-1]))\n",
    "x = layers.GRU(32, recurrent_dropout = 0.5, return_sequences = True)(inputs)\n",
    "x = layers.GRU(32, recurrent_dropout = 0.5)(x)\n",
    "x = layers.Dropout(0.5)(x)\n",
    "outputs = layers.Dense(1)(x)\n",
    "model = keras.Model(inputs, outputs)\n",
    "\n",
    "callbacks = [keras.callbacks.ModelCheckpoint(\"jena_stacked_gru_dropout.keras\",\n",
    "                                            save_best_only = True)]\n",
    "\n",
    "model.compile(optimizer = \"rmsprop\", loss = \"mse\", metrics = [\"mae\"])\n",
    "history = model.fit(train_dataset,\n",
    "                   epochs = 50,\n",
    "                   validation_data = val_dataset,\n",
    "                   callbacks = callbacks)\n",
    "\n",
    "model = keras.models.load_model(\"jena_stacked_gru_dropout.keras\")\n",
    "print(f\"Test MAE: {model.evaluate(test_dataset)[1]: .2f}\")"
   ]
  },
  {
   "cell_type": "markdown",
   "id": "eaa0daad",
   "metadata": {},
   "source": [
    "#### Bidirectional RNN Example"
   ]
  },
  {
   "cell_type": "code",
   "execution_count": 43,
   "id": "2338a024",
   "metadata": {},
   "outputs": [
    {
     "name": "stdout",
     "output_type": "stream",
     "text": [
      "Epoch 1/10\n",
      "819/819 [==============================] - 33s 37ms/step - loss: 25.8015 - mae: 3.6772 - val_loss: 10.4899 - val_mae: 2.4879\n",
      "Epoch 2/10\n",
      "819/819 [==============================] - 30s 36ms/step - loss: 9.3960 - mae: 2.3958 - val_loss: 10.2202 - val_mae: 2.4603\n",
      "Epoch 3/10\n",
      "819/819 [==============================] - 30s 37ms/step - loss: 8.5974 - mae: 2.2836 - val_loss: 10.1329 - val_mae: 2.4531\n",
      "Epoch 4/10\n",
      "819/819 [==============================] - 28s 34ms/step - loss: 8.1440 - mae: 2.2224 - val_loss: 10.2693 - val_mae: 2.4667\n",
      "Epoch 5/10\n",
      "819/819 [==============================] - 35s 43ms/step - loss: 7.7557 - mae: 2.1711 - val_loss: 9.7934 - val_mae: 2.4226\n",
      "Epoch 6/10\n",
      "819/819 [==============================] - 28s 35ms/step - loss: 7.4125 - mae: 2.1235 - val_loss: 10.7453 - val_mae: 2.5091\n",
      "Epoch 7/10\n",
      "819/819 [==============================] - 29s 35ms/step - loss: 7.0837 - mae: 2.0759 - val_loss: 10.6395 - val_mae: 2.5042\n",
      "Epoch 8/10\n",
      "819/819 [==============================] - 29s 35ms/step - loss: 6.8725 - mae: 2.0454 - val_loss: 11.1185 - val_mae: 2.5490\n",
      "Epoch 9/10\n",
      "819/819 [==============================] - 29s 35ms/step - loss: 6.6644 - mae: 2.0121 - val_loss: 10.6995 - val_mae: 2.5347\n",
      "Epoch 10/10\n",
      "819/819 [==============================] - 30s 37ms/step - loss: 6.5039 - mae: 1.9882 - val_loss: 11.1095 - val_mae: 2.5810\n"
     ]
    }
   ],
   "source": [
    "#Bidirectional LSTM example - this underperforms but works well on task order matters but which order does not matter!\n",
    "inputs = keras.Input(shape=(sequence_length, raw_data.shape[-1]))\n",
    "x = layers.Bidirectional(layers.LSTM(16))(inputs)\n",
    "outputs = layers.Dense(1)(x)\n",
    "model = keras.Model(inputs, outputs)\n",
    "model.compile(optimizer = \"rmsprop\", loss=\"mse\", metrics=[\"mae\"])\n",
    "history = model.fit(train_dataset,\n",
    "                   epochs = 10,\n",
    "                   validation_data = val_dataset)"
   ]
  },
  {
   "cell_type": "code",
   "execution_count": null,
   "id": "5ff88d5a",
   "metadata": {},
   "outputs": [],
   "source": []
  }
 ],
 "metadata": {
  "kernelspec": {
   "display_name": "Python 3 (ipykernel)",
   "language": "python",
   "name": "python3"
  },
  "language_info": {
   "codemirror_mode": {
    "name": "ipython",
    "version": 3
   },
   "file_extension": ".py",
   "mimetype": "text/x-python",
   "name": "python",
   "nbconvert_exporter": "python",
   "pygments_lexer": "ipython3",
   "version": "3.9.12"
  }
 },
 "nbformat": 4,
 "nbformat_minor": 5
}
